{
 "cells": [
  {
   "cell_type": "markdown",
   "metadata": {},
   "source": [
    "# VELOX Processing Test Notebook\n",
    "\n",
    "This notebook demonstrates loading a dataset, applying a quality mask, processing it with the pushbroom function, and visualizing the output.\n",
    "\n",
    "Make sure your package is in the Python path or installed as a package so that you can import `concatenate_images3` from `velox_tools.processing`."
   ]
  },
  {
   "cell_type": "code",
   "execution_count": null,
   "id": "6d5af7a4-c2c6-4dd6-9f90-5e40a2c735f9",
   "metadata": {},
   "outputs": [],
   "source": [
    "import xarray as xr\n",
    "import matplotlib.pyplot as plt\n",
    "\n",
    "# Import the processing function from your package\n",
    "from velox_tools.processing import concatenate_images3\n",
    "\n",
    "# Optional: set matplotlib style\n",
    "plt.style.use('seaborn-white')"
   ]
  },
  {
   "cell_type": "markdown",
   "metadata": {},
   "source": [
    "## Load and Preprocess Dataset\n",
    "\n",
    "Here we load a NetCDF dataset, sort it by time, and apply a quality mask based on the `BT_2D` variable. Only time steps where any data is present will be kept."
   ]
  },
  {
   "cell_type": "code",
   "execution_count": null,
   "id": "b7275b89-f41e-48d7-8c8a-243bb37e4c97",
   "metadata": {},
   "outputs": [],
   "source": [
    "# Load dataset and sort by time\n",
    "ds = xr.open_dataset('../../Mueller_et_al_2024/data/predicted/circles_georeff/RF12_hl06.nc').sortby('time')\n",
    "\n",
    "# Create a quality mask from the first band of BT_2D: True if any non-null value exists in x and y\n",
    "quality_mask = ds['BT_2D'].isel(band=0).notnull().any(dim=['x', 'y'])\n",
    "\n",
    "# Select only the time steps where the quality mask is True\n",
    "ds = ds.sel(time=quality_mask)\n",
    "\n",
    "print('Dataset dimensions after applying quality mask:')\n",
    "print(ds)"
   ]
  },
  {
   "cell_type": "markdown",
   "metadata": {},
   "source": [
    "## Processing with the Pushbroom Function\n",
    "\n",
    "Next, we process the dataset using the `concatenate_images3` function with a slicing position of 100 and specifying mode as `'xarray'`."
   ]
  },
  {
   "cell_type": "code",
   "execution_count": null,
   "id": "60dfabed-9b1b-4242-9b27-63d41f826d06",
   "metadata": {},
   "outputs": [],
   "source": [
    "# Process the dataset using the pushbroom function\n",
    "cc = concatenate_images3(ds, mode='xarray', slicing_position=100)\n",
    "\n",
    "print('Processed dataset dimensions:')\n",
    "print(cc)"
   ]
  },
  {
   "cell_type": "markdown",
   "metadata": {},
   "source": [
    "## Interpolate Missing Values\n",
    "\n",
    "Now we interpolate missing values along the time dimension using the nearest method."
   ]
  },
  {
   "cell_type": "code",
   "execution_count": null,
   "id": "42c2b63c-6d75-43e1-8670-05e81e2a74a3",
   "metadata": {},
   "outputs": [],
   "source": [
    "# Interpolate missing values along time\n",
    "cc2 = cc.interpolate_na(dim='time', method='nearest')\n",
    "\n",
    "print('Dataset after interpolation:')\n",
    "print(cc2)"
   ]
  },
  {
   "cell_type": "markdown",
   "metadata": {},
   "source": [
    "## Visualize the Result\n",
    "\n",
    "Finally, we plot the first band of the processed `BT_2D` variable as an image. The `robust=True` flag is used for robust color scaling and the figure size is set to be wide and short."
   ]
  },
  {
   "cell_type": "code",
   "execution_count": null,
   "id": "a3fceaf4-f3ac-4f6e-8e2d-63374a578da4",
   "metadata": {},
   "outputs": [],
   "source": [
    "# Plot the first band of BT_2D using imshow\n",
    "cc2.BT_2D.isel(band=0).plot.imshow(robust=True, figsize=(20, 1))\n",
    "plt.title('Processed BT_2D (Band 0)')\n",
    "plt.show()"
   ]
  }
 ],
 "metadata": {
  "kernelspec": {
   "display_name": "mamba_josh",
   "language": "python",
   "name": "python3"
  },
  "language_info": {
   "codemirror_mode": {
    "name": "ipython",
    "version": 3
   },
   "file_extension": ".py",
   "mimetype": "text/x-python",
   "name": "python",
   "nbconvert_exporter": "python",
   "pygments_lexer": "ipython3",
   "version": "3.12.1"
  }
 },
 "nbformat": 4,
 "nbformat_minor": 5
}
